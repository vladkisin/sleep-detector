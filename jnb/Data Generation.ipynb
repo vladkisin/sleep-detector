{
 "cells": [
  {
   "cell_type": "code",
   "execution_count": 1,
   "id": "407bbd71",
   "metadata": {},
   "outputs": [],
   "source": [
    "import sys\n",
    "sys.path.append(\"..\")\n",
    "import uuid\n",
    "import pandas as pd\n",
    "import numpy as np\n",
    "from datetime import datetime, timedelta\n",
    "from src.config import DATA_PATH, USECOLS\n",
    "from src.generate.generators import generate_ip_space, generate_bot_entries, generate_human_entries\n",
    "\n",
    "%load_ext autoreload\n",
    "%autoreload 2"
   ]
  },
  {
   "cell_type": "code",
   "execution_count": 2,
   "id": "f70ca999",
   "metadata": {},
   "outputs": [],
   "source": [
    "sample = pd.read_csv(DATA_PATH / 'Sample Data for Candidate Assessment.csv', usecols=USECOLS)"
   ]
  },
  {
   "cell_type": "code",
   "execution_count": 3,
   "id": "5bff898f",
   "metadata": {},
   "outputs": [
    {
     "data": {
      "text/html": [
       "<div>\n",
       "<style scoped>\n",
       "    .dataframe tbody tr th:only-of-type {\n",
       "        vertical-align: middle;\n",
       "    }\n",
       "\n",
       "    .dataframe tbody tr th {\n",
       "        vertical-align: top;\n",
       "    }\n",
       "\n",
       "    .dataframe thead th {\n",
       "        text-align: right;\n",
       "    }\n",
       "</style>\n",
       "<table border=\"1\" class=\"dataframe\">\n",
       "  <thead>\n",
       "    <tr style=\"text-align: right;\">\n",
       "      <th></th>\n",
       "      <th>REQUEST_TIME</th>\n",
       "      <th>DEVICE_IP</th>\n",
       "      <th>DEVICE_IFA</th>\n",
       "      <th>DEVICE_LANGUAGE</th>\n",
       "      <th>GEO_CURRENT_CITY</th>\n",
       "    </tr>\n",
       "  </thead>\n",
       "  <tbody>\n",
       "    <tr>\n",
       "      <th>0</th>\n",
       "      <td>2022-10-19T15:51:07.387Z</td>\n",
       "      <td>5.28.186.193</td>\n",
       "      <td>741b39aa-3cf6-4fdf-863c-4ca8ab11102f</td>\n",
       "      <td>he</td>\n",
       "      <td>Petah Tiqwa</td>\n",
       "    </tr>\n",
       "    <tr>\n",
       "      <th>1</th>\n",
       "      <td>2022-10-19T15:50:05Z</td>\n",
       "      <td>5.28.177.198</td>\n",
       "      <td>5b932c2d-a3b9-4220-9b28-aa4d93c57a59</td>\n",
       "      <td>he</td>\n",
       "      <td>Givatayim</td>\n",
       "    </tr>\n",
       "    <tr>\n",
       "      <th>2</th>\n",
       "      <td>2022-10-19T15:56:35.587Z</td>\n",
       "      <td>5.28.186.210</td>\n",
       "      <td>96aa31a6-3ec3-4bab-b33d-ddcb164312e7</td>\n",
       "      <td>en</td>\n",
       "      <td>Bat Yam</td>\n",
       "    </tr>\n",
       "    <tr>\n",
       "      <th>3</th>\n",
       "      <td>2022-10-19T15:50:31.205Z</td>\n",
       "      <td>5.28.185.0</td>\n",
       "      <td>AADvyU7EZrYAAC9tt5XFAA</td>\n",
       "      <td>en</td>\n",
       "      <td>Givatayim</td>\n",
       "    </tr>\n",
       "    <tr>\n",
       "      <th>4</th>\n",
       "      <td>2022-10-19T15:51:30.363Z</td>\n",
       "      <td>5.28.185.3</td>\n",
       "      <td>AADwHU7GFEoAAA8i1vj7-Q</td>\n",
       "      <td>ru</td>\n",
       "      <td>Givatayim</td>\n",
       "    </tr>\n",
       "  </tbody>\n",
       "</table>\n",
       "</div>"
      ],
      "text/plain": [
       "               REQUEST_TIME     DEVICE_IP  \\\n",
       "0  2022-10-19T15:51:07.387Z  5.28.186.193   \n",
       "1      2022-10-19T15:50:05Z  5.28.177.198   \n",
       "2  2022-10-19T15:56:35.587Z  5.28.186.210   \n",
       "3  2022-10-19T15:50:31.205Z    5.28.185.0   \n",
       "4  2022-10-19T15:51:30.363Z    5.28.185.3   \n",
       "\n",
       "                             DEVICE_IFA DEVICE_LANGUAGE GEO_CURRENT_CITY  \n",
       "0  741b39aa-3cf6-4fdf-863c-4ca8ab11102f              he      Petah Tiqwa  \n",
       "1  5b932c2d-a3b9-4220-9b28-aa4d93c57a59              he        Givatayim  \n",
       "2  96aa31a6-3ec3-4bab-b33d-ddcb164312e7              en          Bat Yam  \n",
       "3                AADvyU7EZrYAAC9tt5XFAA              en        Givatayim  \n",
       "4                AADwHU7GFEoAAA8i1vj7-Q              ru        Givatayim  "
      ]
     },
     "execution_count": 3,
     "metadata": {},
     "output_type": "execute_result"
    }
   ],
   "source": [
    "sample.head()"
   ]
  },
  {
   "cell_type": "code",
   "execution_count": 4,
   "id": "6984d138",
   "metadata": {},
   "outputs": [
    {
     "data": {
      "text/plain": [
       "REQUEST_TIME        489\n",
       "DEVICE_IP           347\n",
       "DEVICE_IFA          391\n",
       "DEVICE_LANGUAGE       9\n",
       "GEO_CURRENT_CITY     36\n",
       "dtype: int64"
      ]
     },
     "execution_count": 4,
     "metadata": {},
     "output_type": "execute_result"
    }
   ],
   "source": [
    "sample.nunique()"
   ]
  },
  {
   "cell_type": "markdown",
   "id": "ca1aea5b",
   "metadata": {},
   "source": [
    "# Generate sampling space for attributes: IP, Language, City"
   ]
  },
  {
   "cell_type": "code",
   "execution_count": 5,
   "id": "4e86c0e3",
   "metadata": {},
   "outputs": [],
   "source": [
    "IP_SPACE = generate_ip_space(2000)\n",
    "LANG_SPACE, LANG_P = sample['DEVICE_LANGUAGE'].value_counts().index, sample['DEVICE_LANGUAGE'].value_counts(True).values\n",
    "CITY_SPACE, CITY_P = sample['GEO_CURRENT_CITY'].value_counts().index, sample['GEO_CURRENT_CITY'].value_counts(True).values"
   ]
  },
  {
   "cell_type": "markdown",
   "id": "214f829b",
   "metadata": {},
   "source": [
    "# Define the samples generation process\n",
    "\n",
    "The pipeline is the following:\n",
    "1) Define mass distribution over 24 hours (apply sleeping windows for human entries)\n",
    "2) Sample random number of total entries a day based on distribution\n",
    "3) Sample entries in each hour:\n",
    "    - Take desired number of entries for an hour and sample request time randomly\n",
    "    - For bot entries can also perform permutations by sampling big number of events in a minute and by sampling hour in equal intervals\n",
    "    - For bot entries noise in selection of marginal cities or languages can be introduced"
   ]
  },
  {
   "cell_type": "code",
   "execution_count": 6,
   "id": "53460fe4",
   "metadata": {},
   "outputs": [],
   "source": [
    "def generate_dataset(n_entries=1500, proportion_of_bots=0.2):\n",
    "    records = []\n",
    "    for _ in range(n_entries):\n",
    "        if np.random.random() <= proportion_of_bots:\n",
    "            records.extend(\n",
    "                generate_bot_entries(IP_SPACE, LANG_SPACE, LANG_P, CITY_SPACE, CITY_P)\n",
    "            )\n",
    "        else:\n",
    "            records.extend(\n",
    "                generate_human_entries(IP_SPACE, LANG_SPACE, LANG_P, CITY_SPACE, CITY_P)\n",
    "            )\n",
    "    return pd.DataFrame(records, columns=USECOLS)"
   ]
  },
  {
   "cell_type": "code",
   "execution_count": 7,
   "id": "16bc2070",
   "metadata": {},
   "outputs": [],
   "source": [
    "data = generate_dataset(n_entries=2000)"
   ]
  },
  {
   "cell_type": "code",
   "execution_count": 8,
   "id": "9ad80d15",
   "metadata": {},
   "outputs": [
    {
     "data": {
      "text/html": [
       "<div>\n",
       "<style scoped>\n",
       "    .dataframe tbody tr th:only-of-type {\n",
       "        vertical-align: middle;\n",
       "    }\n",
       "\n",
       "    .dataframe tbody tr th {\n",
       "        vertical-align: top;\n",
       "    }\n",
       "\n",
       "    .dataframe thead th {\n",
       "        text-align: right;\n",
       "    }\n",
       "</style>\n",
       "<table border=\"1\" class=\"dataframe\">\n",
       "  <thead>\n",
       "    <tr style=\"text-align: right;\">\n",
       "      <th></th>\n",
       "      <th>REQUEST_TIME</th>\n",
       "      <th>DEVICE_IP</th>\n",
       "      <th>DEVICE_IFA</th>\n",
       "      <th>GEO_CURRENT_CITY</th>\n",
       "      <th>DEVICE_LANGUAGE</th>\n",
       "    </tr>\n",
       "  </thead>\n",
       "  <tbody>\n",
       "    <tr>\n",
       "      <th>0</th>\n",
       "      <td>2022-12-21 12:12:36.607921</td>\n",
       "      <td>68.167.206.42</td>\n",
       "      <td>8d9f64e9-72a2-4755-81f6-38673c444c4d</td>\n",
       "      <td>he</td>\n",
       "      <td>Holon</td>\n",
       "    </tr>\n",
       "    <tr>\n",
       "      <th>1</th>\n",
       "      <td>2022-12-21 13:47:33.831876</td>\n",
       "      <td>68.167.206.42</td>\n",
       "      <td>8d9f64e9-72a2-4755-81f6-38673c444c4d</td>\n",
       "      <td>he</td>\n",
       "      <td>Holon</td>\n",
       "    </tr>\n",
       "    <tr>\n",
       "      <th>2</th>\n",
       "      <td>2022-12-21 13:42:44.098550</td>\n",
       "      <td>68.167.206.42</td>\n",
       "      <td>8d9f64e9-72a2-4755-81f6-38673c444c4d</td>\n",
       "      <td>he</td>\n",
       "      <td>Holon</td>\n",
       "    </tr>\n",
       "    <tr>\n",
       "      <th>3</th>\n",
       "      <td>2022-12-21 14:59:36.331302</td>\n",
       "      <td>68.167.206.42</td>\n",
       "      <td>8d9f64e9-72a2-4755-81f6-38673c444c4d</td>\n",
       "      <td>he</td>\n",
       "      <td>Holon</td>\n",
       "    </tr>\n",
       "    <tr>\n",
       "      <th>4</th>\n",
       "      <td>2022-12-21 14:26:29.087534</td>\n",
       "      <td>68.167.206.42</td>\n",
       "      <td>8d9f64e9-72a2-4755-81f6-38673c444c4d</td>\n",
       "      <td>he</td>\n",
       "      <td>Holon</td>\n",
       "    </tr>\n",
       "  </tbody>\n",
       "</table>\n",
       "</div>"
      ],
      "text/plain": [
       "                REQUEST_TIME      DEVICE_IP  \\\n",
       "0 2022-12-21 12:12:36.607921  68.167.206.42   \n",
       "1 2022-12-21 13:47:33.831876  68.167.206.42   \n",
       "2 2022-12-21 13:42:44.098550  68.167.206.42   \n",
       "3 2022-12-21 14:59:36.331302  68.167.206.42   \n",
       "4 2022-12-21 14:26:29.087534  68.167.206.42   \n",
       "\n",
       "                             DEVICE_IFA GEO_CURRENT_CITY DEVICE_LANGUAGE  \n",
       "0  8d9f64e9-72a2-4755-81f6-38673c444c4d               he           Holon  \n",
       "1  8d9f64e9-72a2-4755-81f6-38673c444c4d               he           Holon  \n",
       "2  8d9f64e9-72a2-4755-81f6-38673c444c4d               he           Holon  \n",
       "3  8d9f64e9-72a2-4755-81f6-38673c444c4d               he           Holon  \n",
       "4  8d9f64e9-72a2-4755-81f6-38673c444c4d               he           Holon  "
      ]
     },
     "execution_count": 8,
     "metadata": {},
     "output_type": "execute_result"
    }
   ],
   "source": [
    "data.head()"
   ]
  },
  {
   "cell_type": "code",
   "execution_count": null,
   "id": "23a65c1c",
   "metadata": {},
   "outputs": [],
   "source": []
  }
 ],
 "metadata": {
  "kernelspec": {
   "display_name": "Python 3 (ipykernel)",
   "language": "python",
   "name": "python3"
  },
  "language_info": {
   "codemirror_mode": {
    "name": "ipython",
    "version": 3
   },
   "file_extension": ".py",
   "mimetype": "text/x-python",
   "name": "python",
   "nbconvert_exporter": "python",
   "pygments_lexer": "ipython3",
   "version": "3.9.15"
  }
 },
 "nbformat": 4,
 "nbformat_minor": 5
}
