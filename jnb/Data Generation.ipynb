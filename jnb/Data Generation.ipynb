{
 "cells": [
  {
   "cell_type": "code",
   "execution_count": 1,
   "id": "61f665e9",
   "metadata": {},
   "outputs": [],
   "source": [
    "# Do not reload\n",
    "import sys, os\n",
    "sys.path.append(\"../\")\n",
    "os.chdir('../')"
   ]
  },
  {
   "cell_type": "code",
   "execution_count": 2,
   "id": "407bbd71",
   "metadata": {},
   "outputs": [],
   "source": [
    "import pandas as pd\n",
    "import numpy as np\n",
    "from src.config import DATA_PATH\n",
    "from src.common import input_keys\n",
    "from src.generate.generators import generate_ip_space, generate_bot_entries, generate_human_entries, generate_dataset\n",
    "\n",
    "%load_ext autoreload\n",
    "%autoreload 2"
   ]
  },
  {
   "cell_type": "code",
   "execution_count": 3,
   "id": "f70ca999",
   "metadata": {},
   "outputs": [],
   "source": [
    "sample = pd.read_csv(DATA_PATH / 'Sample Data for Candidate Assessment.csv', usecols=input_keys.USECOLS)"
   ]
  },
  {
   "cell_type": "code",
   "execution_count": 4,
   "id": "5bff898f",
   "metadata": {},
   "outputs": [
    {
     "data": {
      "text/html": [
       "<div>\n",
       "<style scoped>\n",
       "    .dataframe tbody tr th:only-of-type {\n",
       "        vertical-align: middle;\n",
       "    }\n",
       "\n",
       "    .dataframe tbody tr th {\n",
       "        vertical-align: top;\n",
       "    }\n",
       "\n",
       "    .dataframe thead th {\n",
       "        text-align: right;\n",
       "    }\n",
       "</style>\n",
       "<table border=\"1\" class=\"dataframe\">\n",
       "  <thead>\n",
       "    <tr style=\"text-align: right;\">\n",
       "      <th></th>\n",
       "      <th>REQUEST_TIME</th>\n",
       "      <th>DEVICE_IP</th>\n",
       "      <th>DEVICE_IFA</th>\n",
       "      <th>DEVICE_LANGUAGE</th>\n",
       "      <th>GEO_CURRENT_CITY</th>\n",
       "    </tr>\n",
       "  </thead>\n",
       "  <tbody>\n",
       "    <tr>\n",
       "      <th>0</th>\n",
       "      <td>2022-10-19T15:51:07.387Z</td>\n",
       "      <td>5.28.186.193</td>\n",
       "      <td>741b39aa-3cf6-4fdf-863c-4ca8ab11102f</td>\n",
       "      <td>he</td>\n",
       "      <td>Petah Tiqwa</td>\n",
       "    </tr>\n",
       "    <tr>\n",
       "      <th>1</th>\n",
       "      <td>2022-10-19T15:50:05Z</td>\n",
       "      <td>5.28.177.198</td>\n",
       "      <td>5b932c2d-a3b9-4220-9b28-aa4d93c57a59</td>\n",
       "      <td>he</td>\n",
       "      <td>Givatayim</td>\n",
       "    </tr>\n",
       "    <tr>\n",
       "      <th>2</th>\n",
       "      <td>2022-10-19T15:56:35.587Z</td>\n",
       "      <td>5.28.186.210</td>\n",
       "      <td>96aa31a6-3ec3-4bab-b33d-ddcb164312e7</td>\n",
       "      <td>en</td>\n",
       "      <td>Bat Yam</td>\n",
       "    </tr>\n",
       "    <tr>\n",
       "      <th>3</th>\n",
       "      <td>2022-10-19T15:50:31.205Z</td>\n",
       "      <td>5.28.185.0</td>\n",
       "      <td>AADvyU7EZrYAAC9tt5XFAA</td>\n",
       "      <td>en</td>\n",
       "      <td>Givatayim</td>\n",
       "    </tr>\n",
       "    <tr>\n",
       "      <th>4</th>\n",
       "      <td>2022-10-19T15:51:30.363Z</td>\n",
       "      <td>5.28.185.3</td>\n",
       "      <td>AADwHU7GFEoAAA8i1vj7-Q</td>\n",
       "      <td>ru</td>\n",
       "      <td>Givatayim</td>\n",
       "    </tr>\n",
       "  </tbody>\n",
       "</table>\n",
       "</div>"
      ],
      "text/plain": [
       "               REQUEST_TIME     DEVICE_IP  \\\n",
       "0  2022-10-19T15:51:07.387Z  5.28.186.193   \n",
       "1      2022-10-19T15:50:05Z  5.28.177.198   \n",
       "2  2022-10-19T15:56:35.587Z  5.28.186.210   \n",
       "3  2022-10-19T15:50:31.205Z    5.28.185.0   \n",
       "4  2022-10-19T15:51:30.363Z    5.28.185.3   \n",
       "\n",
       "                             DEVICE_IFA DEVICE_LANGUAGE GEO_CURRENT_CITY  \n",
       "0  741b39aa-3cf6-4fdf-863c-4ca8ab11102f              he      Petah Tiqwa  \n",
       "1  5b932c2d-a3b9-4220-9b28-aa4d93c57a59              he        Givatayim  \n",
       "2  96aa31a6-3ec3-4bab-b33d-ddcb164312e7              en          Bat Yam  \n",
       "3                AADvyU7EZrYAAC9tt5XFAA              en        Givatayim  \n",
       "4                AADwHU7GFEoAAA8i1vj7-Q              ru        Givatayim  "
      ]
     },
     "execution_count": 4,
     "metadata": {},
     "output_type": "execute_result"
    }
   ],
   "source": [
    "sample.head()"
   ]
  },
  {
   "cell_type": "code",
   "execution_count": 5,
   "id": "6984d138",
   "metadata": {},
   "outputs": [
    {
     "data": {
      "text/plain": [
       "REQUEST_TIME        489\n",
       "DEVICE_IP           347\n",
       "DEVICE_IFA          391\n",
       "DEVICE_LANGUAGE       9\n",
       "GEO_CURRENT_CITY     36\n",
       "dtype: int64"
      ]
     },
     "execution_count": 5,
     "metadata": {},
     "output_type": "execute_result"
    }
   ],
   "source": [
    "sample.nunique()"
   ]
  },
  {
   "cell_type": "markdown",
   "id": "ca1aea5b",
   "metadata": {},
   "source": [
    "# Generate sampling space for attributes: IP, Language, City"
   ]
  },
  {
   "cell_type": "code",
   "execution_count": 6,
   "id": "4e86c0e3",
   "metadata": {},
   "outputs": [],
   "source": [
    "IP_SPACE = generate_ip_space(2000)\n",
    "LANG_SPACE, LANG_P = sample[input_keys.LANG_KEY].value_counts().index, sample[input_keys.LANG_KEY].value_counts(True).values\n",
    "CITY_SPACE, CITY_P = sample[input_keys.CITY_KEY].value_counts().index, sample[input_keys.CITY_KEY].value_counts(True).values"
   ]
  },
  {
   "cell_type": "markdown",
   "id": "214f829b",
   "metadata": {},
   "source": [
    "# Define the samples generation process\n",
    "\n",
    "The pipeline is the following:\n",
    "1) Define mass distribution over 24 hours (apply sleeping windows for human entries)\n",
    "2) Sample random number of total entries a day based on distribution\n",
    "3) Sample entries in each hour:\n",
    "    - Take desired number of entries for an hour and sample request time randomly\n",
    "    - For bot entries can also perform permutations by sampling big number of events in a minute and by sampling hour in equal intervals\n",
    "    - For bot entries noise in selection of marginal cities or languages can be introduced"
   ]
  },
  {
   "cell_type": "code",
   "execution_count": 7,
   "id": "16bc2070",
   "metadata": {},
   "outputs": [],
   "source": [
    "data = generate_dataset(\n",
    "    np.random.randint(2000, 4000), IP_SPACE, LANG_SPACE, LANG_P, CITY_SPACE, CITY_P, input_keys\n",
    ")\n",
    "test_data = generate_dataset(\n",
    "    np.random.randint(400, 600), IP_SPACE, LANG_SPACE, LANG_P, CITY_SPACE, CITY_P, input_keys\n",
    ")\n",
    "api_data = generate_dataset(\n",
    "    np.random.randint(10, 20), IP_SPACE, LANG_SPACE, LANG_P, CITY_SPACE, CITY_P, input_keys\n",
    ")"
   ]
  },
  {
   "cell_type": "code",
   "execution_count": 8,
   "id": "9ad80d15",
   "metadata": {},
   "outputs": [
    {
     "data": {
      "text/html": [
       "<div>\n",
       "<style scoped>\n",
       "    .dataframe tbody tr th:only-of-type {\n",
       "        vertical-align: middle;\n",
       "    }\n",
       "\n",
       "    .dataframe tbody tr th {\n",
       "        vertical-align: top;\n",
       "    }\n",
       "\n",
       "    .dataframe thead th {\n",
       "        text-align: right;\n",
       "    }\n",
       "</style>\n",
       "<table border=\"1\" class=\"dataframe\">\n",
       "  <thead>\n",
       "    <tr style=\"text-align: right;\">\n",
       "      <th></th>\n",
       "      <th>REQUEST_TIME</th>\n",
       "      <th>DEVICE_IP</th>\n",
       "      <th>DEVICE_IFA</th>\n",
       "      <th>GEO_CURRENT_CITY</th>\n",
       "      <th>DEVICE_LANGUAGE</th>\n",
       "      <th>GENERATED_AS_BOT</th>\n",
       "    </tr>\n",
       "  </thead>\n",
       "  <tbody>\n",
       "    <tr>\n",
       "      <th>0</th>\n",
       "      <td>2022-12-21 02:30:48.180924</td>\n",
       "      <td>15.99.54.187</td>\n",
       "      <td>8e225a93-366f-44c8-9588-30f79c1910ae</td>\n",
       "      <td>Ramat Gan</td>\n",
       "      <td>en</td>\n",
       "      <td>0</td>\n",
       "    </tr>\n",
       "    <tr>\n",
       "      <th>1</th>\n",
       "      <td>2022-12-21 12:09:49.570128</td>\n",
       "      <td>15.99.54.187</td>\n",
       "      <td>8e225a93-366f-44c8-9588-30f79c1910ae</td>\n",
       "      <td>Ramat Gan</td>\n",
       "      <td>en</td>\n",
       "      <td>0</td>\n",
       "    </tr>\n",
       "    <tr>\n",
       "      <th>2</th>\n",
       "      <td>2022-12-21 12:59:56.963635</td>\n",
       "      <td>15.99.54.187</td>\n",
       "      <td>8e225a93-366f-44c8-9588-30f79c1910ae</td>\n",
       "      <td>Ramat Gan</td>\n",
       "      <td>en</td>\n",
       "      <td>0</td>\n",
       "    </tr>\n",
       "    <tr>\n",
       "      <th>3</th>\n",
       "      <td>2022-12-21 12:04:35.182955</td>\n",
       "      <td>15.99.54.187</td>\n",
       "      <td>8e225a93-366f-44c8-9588-30f79c1910ae</td>\n",
       "      <td>Ramat Gan</td>\n",
       "      <td>en</td>\n",
       "      <td>0</td>\n",
       "    </tr>\n",
       "    <tr>\n",
       "      <th>4</th>\n",
       "      <td>2022-12-21 12:18:46.331838</td>\n",
       "      <td>15.99.54.187</td>\n",
       "      <td>8e225a93-366f-44c8-9588-30f79c1910ae</td>\n",
       "      <td>Ramat Gan</td>\n",
       "      <td>en</td>\n",
       "      <td>0</td>\n",
       "    </tr>\n",
       "  </tbody>\n",
       "</table>\n",
       "</div>"
      ],
      "text/plain": [
       "                REQUEST_TIME     DEVICE_IP  \\\n",
       "0 2022-12-21 02:30:48.180924  15.99.54.187   \n",
       "1 2022-12-21 12:09:49.570128  15.99.54.187   \n",
       "2 2022-12-21 12:59:56.963635  15.99.54.187   \n",
       "3 2022-12-21 12:04:35.182955  15.99.54.187   \n",
       "4 2022-12-21 12:18:46.331838  15.99.54.187   \n",
       "\n",
       "                             DEVICE_IFA GEO_CURRENT_CITY DEVICE_LANGUAGE  \\\n",
       "0  8e225a93-366f-44c8-9588-30f79c1910ae        Ramat Gan              en   \n",
       "1  8e225a93-366f-44c8-9588-30f79c1910ae        Ramat Gan              en   \n",
       "2  8e225a93-366f-44c8-9588-30f79c1910ae        Ramat Gan              en   \n",
       "3  8e225a93-366f-44c8-9588-30f79c1910ae        Ramat Gan              en   \n",
       "4  8e225a93-366f-44c8-9588-30f79c1910ae        Ramat Gan              en   \n",
       "\n",
       "   GENERATED_AS_BOT  \n",
       "0                 0  \n",
       "1                 0  \n",
       "2                 0  \n",
       "3                 0  \n",
       "4                 0  "
      ]
     },
     "execution_count": 8,
     "metadata": {},
     "output_type": "execute_result"
    }
   ],
   "source": [
    "data.head()"
   ]
  },
  {
   "cell_type": "code",
   "execution_count": 9,
   "id": "23a65c1c",
   "metadata": {},
   "outputs": [],
   "source": [
    "data.to_csv(DATA_PATH / 'generated_ad_data.csv.gz', sep=';', compression='gzip', index=False)\n",
    "test_data.to_csv(DATA_PATH / 'generated_ad_data_test.csv.gz', sep=';', compression='gzip', index=False)\n",
    "api_data.to_csv(DATA_PATH / 'test_api.csv', index=False)"
   ]
  }
 ],
 "metadata": {
  "kernelspec": {
   "display_name": "Python 3 (ipykernel)",
   "language": "python",
   "name": "python3"
  },
  "language_info": {
   "codemirror_mode": {
    "name": "ipython",
    "version": 3
   },
   "file_extension": ".py",
   "mimetype": "text/x-python",
   "name": "python",
   "nbconvert_exporter": "python",
   "pygments_lexer": "ipython3",
   "version": "3.9.15"
  }
 },
 "nbformat": 4,
 "nbformat_minor": 5
}
